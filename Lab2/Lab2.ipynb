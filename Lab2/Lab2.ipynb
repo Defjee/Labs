{
 "cells": [
  {
   "cell_type": "code",
   "id": "initial_id",
   "metadata": {
    "collapsed": true,
    "ExecuteTime": {
     "end_time": "2025-04-29T03:43:17.470146Z",
     "start_time": "2025-04-29T03:43:17.462168Z"
    }
   },
   "source": [
    "import re\n",
    "import urllib.request\n",
    "import pandas as pd\n",
    "import urllib.request\n",
    "from datetime import datetime\n",
    "import os\n",
    "from glob import glob"
   ],
   "outputs": [],
   "execution_count": 23
  },
  {
   "metadata": {
    "ExecuteTime": {
     "end_time": "2025-04-29T03:43:38.842271Z",
     "start_time": "2025-04-29T03:43:17.486103Z"
    }
   },
   "cell_type": "code",
   "source": [
    "for i in range(1, 28):\n",
    "    url = f\"https://www.star.nesdis.noaa.gov/smcd/emb/vci/VH/get_TS_admin.php?country=UKR&provinceID={i}&year1=2000&year2=2020&type=Mean\"\n",
    "    wp = urllib.request.urlopen(url)\n",
    "    text = wp.read()\n",
    "\n",
    "    dat = datetime.now().strftime(\"%Y_%m_%d_%H_%M_%S\")\n",
    "\n",
    "    out = open(\"obl_{}_{}.csv\".format(i, dat), 'wb')\n",
    "    out.write(text)\n",
    "    out.close()"
   ],
   "id": "bb67ac609398c128",
   "outputs": [],
   "execution_count": 24
  },
  {
   "metadata": {},
   "cell_type": "markdown",
   "source": "Завантаження файлів та додання дати та часу до назви",
   "id": "778f056caf433487"
  },
  {
   "metadata": {
    "ExecuteTime": {
     "end_time": "2025-04-29T03:43:38.934148Z",
     "start_time": "2025-04-29T03:43:38.873596Z"
    }
   },
   "cell_type": "code",
   "source": [
    "def clean(path):\n",
    "    with open(path, 'r') as f:\n",
    "        lines = f.readlines()\n",
    "\n",
    "    start_index = 0\n",
    "    for i, line in enumerate(lines):\n",
    "        if '<tt><pre>' in line:\n",
    "            lines[i] = line.replace('<tt><pre>', '')\n",
    "            start_index = i\n",
    "            break\n",
    "\n",
    "    cleaned_lines = lines[start_index:-1]\n",
    "\n",
    "    with open(path, 'w') as f:\n",
    "        f.writelines(cleaned_lines)\n",
    "\n",
    "\n",
    "def clean_all(folder):\n",
    "    csv_files = glob('*.csv')\n",
    "\n",
    "    for file in csv_files:\n",
    "        clean(file)\n",
    "\n",
    "\n",
    "clean_all(r\"C:\\Users\\Defje\\PycharmProjects\\Lab2\")"
   ],
   "id": "d2d373af56cc494b",
   "outputs": [],
   "execution_count": 25
  },
  {
   "metadata": {},
   "cell_type": "markdown",
   "source": "Видалення зайвих даних з файлу",
   "id": "c256738f300befba"
  },
  {
   "metadata": {
    "ExecuteTime": {
     "end_time": "2025-04-29T03:43:38.965066Z",
     "start_time": "2025-04-29T03:43:38.951069Z"
    }
   },
   "cell_type": "code",
   "source": [
    "def dataframe(path):\n",
    "    headers = ['Year', 'Week', 'SMN', 'SMT', 'VCI', 'TCI', 'VHI', 'Region']\n",
    "    pat = 'obl_*.csv'\n",
    "    end = os.path.join(path, pat)\n",
    "\n",
    "    csv_file = glob(end)\n",
    "    final_df = pd.DataFrame()\n",
    "    for file in csv_file:\n",
    "        base = os.path.basename(file)\n",
    "        df = pd.read_csv(file, names=headers)\n",
    "\n",
    "        num = re.search(r'\\d+', base)\n",
    "        ind = int(num.group())\n",
    "\n",
    "        df['Region'] = ind\n",
    "\n",
    "        final_df = pd.concat([final_df, df], ignore_index=True)\n",
    "    return final_df"
   ],
   "id": "4b4271cbefd26cb6",
   "outputs": [],
   "execution_count": 26
  },
  {
   "metadata": {},
   "cell_type": "markdown",
   "source": "Функція для створення одного датафрейму з усіх файлів",
   "id": "3be4885be387518b"
  },
  {
   "metadata": {
    "ExecuteTime": {
     "end_time": "2025-04-29T03:43:38.996438Z",
     "start_time": "2025-04-29T03:43:38.981359Z"
    }
   },
   "cell_type": "code",
   "source": [
    "def replacement(df):\n",
    "    df['Region'] = df['Region'].replace({\n",
    "        1: 22, 2: 24, 3: 23, 4: 25, 5: 3, 6: 4, 7: 8, 8: 19, 9: 20, 10: 21,\n",
    "        11: 9, 12: 26, 13: 10, 14: 11, 15: 12, 16: 13, 17: 14, 18: 15, 19: 16,\n",
    "        20: 27, 21: 17, 22: 18, 23: 6, 24: 1, 25: 2, 26: 7, 27: 5\n",
    "    })\n",
    "    df = df.drop(df.loc[df['VHI'] == -1].index)\n",
    "    return df"
   ],
   "id": "730df4b5184e72e5",
   "outputs": [],
   "execution_count": 27
  },
  {
   "metadata": {},
   "cell_type": "markdown",
   "source": "Заміна номерів регіонів і відкидання усіх NaN",
   "id": "ef743137173b532a"
  },
  {
   "metadata": {
    "ExecuteTime": {
     "end_time": "2025-04-29T03:43:39.027387Z",
     "start_time": "2025-04-29T03:43:39.015391Z"
    }
   },
   "cell_type": "code",
   "source": [
    "def vhi(df, region, year):\n",
    "    columns = ['Year', 'Region', 'VHI']\n",
    "    filtered = df[(df[\"Region\"] == region) & (df[\"Year\"] == year)]\n",
    "    return filtered[columns]"
   ],
   "id": "568fd656d5138fa6",
   "outputs": [],
   "execution_count": 28
  },
  {
   "metadata": {},
   "cell_type": "markdown",
   "source": "Ряд VHI для області за вказаний рік",
   "id": "1bd126d30a4bf71e"
  },
  {
   "metadata": {
    "ExecuteTime": {
     "end_time": "2025-04-29T03:43:39.059353Z",
     "start_time": "2025-04-29T03:43:39.044395Z"
    }
   },
   "cell_type": "code",
   "source": [
    "def ext(df, years, regions):\n",
    "    filtered = df[df['Year'].isin(years) & df['Region'].isin(regions)]\n",
    "\n",
    "    final = filtered.groupby(['Region', 'Year']).agg(\n",
    "        MinVHI=pd.NamedAgg(column=\"VHI\", aggfunc=\"min\"),\n",
    "        MaxVHI=pd.NamedAgg(column=\"VHI\", aggfunc=\"max\"),\n",
    "        MeanVHI=pd.NamedAgg(column=\"VHI\", aggfunc=\"mean\"),\n",
    "        MedianVHI=pd.NamedAgg(column=\"VHI\", aggfunc=\"median\"))\n",
    "    return final"
   ],
   "id": "537942468db59e65",
   "outputs": [],
   "execution_count": 29
  },
  {
   "metadata": {},
   "cell_type": "markdown",
   "source": "Пошук екстремумів (min та max) для вказаних областей та років, середнього, медіани",
   "id": "6a03a884347f8cb7"
  },
  {
   "metadata": {
    "ExecuteTime": {
     "end_time": "2025-04-29T03:43:39.090271Z",
     "start_time": "2025-04-29T03:43:39.075311Z"
    }
   },
   "cell_type": "code",
   "source": [
    "def vhi2(df, year1, year2, regions):\n",
    "    columns = ['Year', 'Region', 'VHI']\n",
    "    years = range(year1, year2)\n",
    "    filtered = df[df['Year'].isin(years) & df['Region'].isin(regions)]\n",
    "    return filtered[columns]"
   ],
   "id": "e97435318ff59767",
   "outputs": [],
   "execution_count": 30
  },
  {
   "metadata": {},
   "cell_type": "markdown",
   "source": "Ряд VHI за вказаний діапазон років для вказаних областей",
   "id": "a70723b09dc106b6"
  },
  {
   "metadata": {
    "ExecuteTime": {
     "end_time": "2025-04-29T03:43:39.121188Z",
     "start_time": "2025-04-29T03:43:39.107225Z"
    }
   },
   "cell_type": "code",
   "source": [
    "def drought(df):\n",
    "    columns = ['Year', 'Region', 'VHI']\n",
    "    filtered = df[df['VHI'] < 15]\n",
    "    unique_regions = filtered.groupby('Year')['Region'].nunique()\n",
    "    final_years = unique_regions[unique_regions >= 5].index\n",
    "    final_dataframe = filtered[filtered['Year'].isin(final_years)]\n",
    "\n",
    "    return final_dataframe[columns]"
   ],
   "id": "bae86bb77f7fcdc8",
   "outputs": [],
   "execution_count": 31
  },
  {
   "metadata": {},
   "cell_type": "markdown",
   "source": [
    "Для всього набору даних виявити роки, протягом яких екстремальні\n",
    "посухи торкнулися більше вказаного відсотка областей по Україні (20%\n",
    "областей - 5 областей з 25). Повернути роки, назви областей з\n",
    "екстремальними посухами та значення VHI;"
   ],
   "id": "cc4dc1444fb2aa29"
  },
  {
   "metadata": {
    "ExecuteTime": {
     "end_time": "2025-04-29T03:43:39.416156Z",
     "start_time": "2025-04-29T03:43:39.137146Z"
    }
   },
   "cell_type": "code",
   "source": "print(dataframe(r\"C:\\Users\\Defje\\PycharmProjects\\Lab2\"))",
   "id": "3d4bbb253043377",
   "outputs": [
    {
     "name": "stdout",
     "output_type": "stream",
     "text": [
      "       Year  Week    SMN     SMT    VCI    TCI    VHI  Region\n",
      "0      2000     1  0.033  260.29  21.28  40.64  30.96      10\n",
      "1      2000     2  0.033  260.40  22.74  42.06  32.40      10\n",
      "2      2000     3  0.036  261.40  28.74  39.77  34.26      10\n",
      "3      2000     4  0.043  262.45  36.16  37.55  36.86      10\n",
      "4      2000     5  0.049  264.25  39.26  35.74  37.50      10\n",
      "...     ...   ...    ...     ...    ...    ...    ...     ...\n",
      "29479  2020    48  0.159  277.21  66.52  16.25  41.37       9\n",
      "29480  2020    49  0.150  275.06  65.68  19.44  42.55       9\n",
      "29481  2020    50  0.144  274.00  66.17  18.69  42.43       9\n",
      "29482  2020    51  0.138  272.73  66.79  19.59  43.19       9\n",
      "29483  2020    52  0.132  271.44  67.24  21.90  44.57       9\n",
      "\n",
      "[29484 rows x 8 columns]\n"
     ]
    }
   ],
   "execution_count": 32
  },
  {
   "metadata": {},
   "cell_type": "markdown",
   "source": " Виконання функції dataframe",
   "id": "e94417438c5d2da4"
  },
  {
   "metadata": {
    "ExecuteTime": {
     "end_time": "2025-04-29T03:43:39.523964Z",
     "start_time": "2025-04-29T03:43:39.448208Z"
    }
   },
   "cell_type": "code",
   "source": "print(replacement(dataframe(r\"C:\\Users\\Defje\\PycharmProjects\\Lab2\")))",
   "id": "8318378183b3bdaa",
   "outputs": [
    {
     "name": "stdout",
     "output_type": "stream",
     "text": [
      "       Year  Week    SMN     SMT    VCI    TCI    VHI  Region\n",
      "0      2000     1  0.033  260.29  21.28  40.64  30.96      21\n",
      "1      2000     2  0.033  260.40  22.74  42.06  32.40      21\n",
      "2      2000     3  0.036  261.40  28.74  39.77  34.26      21\n",
      "3      2000     4  0.043  262.45  36.16  37.55  36.86      21\n",
      "4      2000     5  0.049  264.25  39.26  35.74  37.50      21\n",
      "...     ...   ...    ...     ...    ...    ...    ...     ...\n",
      "29479  2020    48  0.159  277.21  66.52  16.25  41.37      20\n",
      "29480  2020    49  0.150  275.06  65.68  19.44  42.55      20\n",
      "29481  2020    50  0.144  274.00  66.17  18.69  42.43      20\n",
      "29482  2020    51  0.138  272.73  66.79  19.59  43.19      20\n",
      "29483  2020    52  0.132  271.44  67.24  21.90  44.57      20\n",
      "\n",
      "[28944 rows x 8 columns]\n"
     ]
    }
   ],
   "execution_count": 33
  },
  {
   "metadata": {},
   "cell_type": "markdown",
   "source": "Виконання функції replacement",
   "id": "b8d843f5f8e12a13"
  },
  {
   "metadata": {
    "ExecuteTime": {
     "end_time": "2025-04-29T03:43:39.617428Z",
     "start_time": "2025-04-29T03:43:39.540917Z"
    }
   },
   "cell_type": "code",
   "source": "print(vhi(replacement(dataframe(r\"C:\\Users\\Defje\\PycharmProjects\\Lab2\")),11, 2001))",
   "id": "33c9da40fab6848a",
   "outputs": [
    {
     "name": "stdout",
     "output_type": "stream",
     "text": [
      "      Year  Region    VHI\n",
      "4420  2001      11  39.81\n",
      "4421  2001      11  41.92\n",
      "4422  2001      11  45.18\n",
      "4423  2001      11  44.31\n",
      "4424  2001      11  41.63\n",
      "4425  2001      11  41.66\n",
      "4426  2001      11  41.99\n",
      "4427  2001      11  41.30\n",
      "4428  2001      11  40.92\n",
      "4429  2001      11  42.74\n",
      "4430  2001      11  43.66\n",
      "4431  2001      11  43.46\n",
      "4432  2001      11  42.84\n",
      "4433  2001      11  43.07\n",
      "4434  2001      11  42.97\n",
      "4435  2001      11  44.25\n",
      "4436  2001      11  49.09\n",
      "4437  2001      11  57.47\n",
      "4438  2001      11  65.81\n",
      "4439  2001      11  70.58\n",
      "4440  2001      11  73.22\n",
      "4441  2001      11  75.34\n",
      "4442  2001      11  76.29\n",
      "4443  2001      11  76.77\n",
      "4444  2001      11  75.90\n",
      "4445  2001      11  71.54\n",
      "4446  2001      11  64.59\n",
      "4447  2001      11  59.10\n",
      "4448  2001      11  55.17\n",
      "4449  2001      11  51.62\n",
      "4450  2001      11  49.76\n",
      "4451  2001      11  50.52\n",
      "4452  2001      11  50.58\n",
      "4453  2001      11  50.78\n",
      "4454  2001      11  54.54\n",
      "4455  2001      11  58.06\n",
      "4456  2001      11  60.26\n",
      "4457  2001      11  62.97\n",
      "4458  2001      11  63.71\n",
      "4459  2001      11  64.80\n",
      "4460  2001      11  65.89\n",
      "4461  2001      11  65.64\n",
      "4462  2001      11  65.00\n",
      "4463  2001      11  64.19\n",
      "4464  2001      11  62.70\n",
      "4465  2001      11  61.12\n",
      "4466  2001      11  60.37\n",
      "4467  2001      11  61.11\n",
      "4468  2001      11  61.59\n",
      "4469  2001      11  63.73\n",
      "4470  2001      11  66.90\n",
      "4471  2001      11  71.02\n"
     ]
    }
   ],
   "execution_count": 34
  },
  {
   "metadata": {},
   "cell_type": "markdown",
   "source": "Виконання функції vhi",
   "id": "91520c8426489004"
  },
  {
   "metadata": {
    "ExecuteTime": {
     "end_time": "2025-04-29T03:43:39.725762Z",
     "start_time": "2025-04-29T03:43:39.649005Z"
    }
   },
   "cell_type": "code",
   "source": "print(ext(replacement(dataframe(r\"C:\\Users\\Defje\\PycharmProjects\\Lab2\")),[2000,2002,2005],[12,15,17,21]))",
   "id": "4942caa325783bb0",
   "outputs": [
    {
     "name": "stdout",
     "output_type": "stream",
     "text": [
      "             MinVHI  MaxVHI    MeanVHI  MedianVHI\n",
      "Region Year                                      \n",
      "12     2000   29.53   69.96  46.678654     46.530\n",
      "       2002   40.84   68.61  52.898269     53.670\n",
      "       2005   43.52   61.93  53.447059     54.560\n",
      "15     2000   22.52   68.24  45.402885     44.570\n",
      "       2002   37.83   72.76  55.293269     52.925\n",
      "       2005   37.50   66.14  51.529412     51.040\n",
      "17     2000   16.81   66.21  44.855962     43.425\n",
      "       2002   26.96   66.84  51.330962     52.710\n",
      "       2005   35.16   66.48  52.957647     54.230\n",
      "21     2000   20.97   65.00  43.941346     46.415\n",
      "       2002   39.19   64.10  49.779038     48.970\n",
      "       2005   44.19   62.26  53.556667     53.970\n"
     ]
    }
   ],
   "execution_count": 35
  },
  {
   "metadata": {},
   "cell_type": "markdown",
   "source": "Виконання функції ext",
   "id": "85fa1b9a6a16f139"
  },
  {
   "metadata": {
    "ExecuteTime": {
     "end_time": "2025-04-29T03:43:39.834044Z",
     "start_time": "2025-04-29T03:43:39.758745Z"
    }
   },
   "cell_type": "code",
   "source": "print(vhi2(replacement(dataframe(r\"C:\\Users\\Defje\\PycharmProjects\\Lab2\")),2000,2005,[12,15,17,21]))",
   "id": "e22b00e680f6992c",
   "outputs": [
    {
     "name": "stdout",
     "output_type": "stream",
     "text": [
      "       Year  Region    VHI\n",
      "0      2000      21  30.96\n",
      "1      2000      21  32.40\n",
      "2      2000      21  34.26\n",
      "3      2000      21  36.86\n",
      "4      2000      21  37.50\n",
      "...     ...     ...    ...\n",
      "13359  2004      17  56.44\n",
      "13360  2004      17  56.01\n",
      "13361  2004      17  54.29\n",
      "13362  2004      17  55.56\n",
      "13363  2004      17  57.24\n",
      "\n",
      "[964 rows x 3 columns]\n"
     ]
    }
   ],
   "execution_count": 36
  },
  {
   "metadata": {},
   "cell_type": "markdown",
   "source": "Виконання функції vhi2",
   "id": "558e5660295d8691"
  },
  {
   "metadata": {
    "ExecuteTime": {
     "end_time": "2025-04-29T03:43:39.942755Z",
     "start_time": "2025-04-29T03:43:39.865753Z"
    }
   },
   "cell_type": "code",
   "source": "print(drought(replacement(dataframe(r\"C:\\Users\\Defje\\PycharmProjects\\Lab2\"))))",
   "id": "d9333a108a5d1c1b",
   "outputs": [
    {
     "name": "stdout",
     "output_type": "stream",
     "text": [
      "       Year  Region    VHI\n",
      "1135   2000       9  12.51\n",
      "1136   2000       9  10.60\n",
      "1137   2000       9  11.20\n",
      "1138   2000       9  12.32\n",
      "1139   2000       9  14.65\n",
      "...     ...     ...    ...\n",
      "28784  2007      20  12.96\n",
      "28785  2007      20  13.48\n",
      "28786  2007      20  14.05\n",
      "28787  2007      20  14.41\n",
      "28788  2007      20  14.81\n",
      "\n",
      "[88 rows x 3 columns]\n"
     ]
    }
   ],
   "execution_count": 37
  },
  {
   "metadata": {},
   "cell_type": "markdown",
   "source": "Виконання функції drought",
   "id": "6f31ae7d935c04f1"
  },
  {
   "metadata": {
    "ExecuteTime": {
     "end_time": "2025-04-29T03:43:39.973566Z",
     "start_time": "2025-04-29T03:43:39.959603Z"
    }
   },
   "cell_type": "code",
   "source": [
    "def delete():\n",
    "    path = r\"C:\\Users\\Defje\\PycharmProjects\\Lab2\"\n",
    "    files = glob(os.path.join(path, '*.csv'))\n",
    "    for file_path in files:\n",
    "        os.remove(file_path)\n",
    "\n",
    "\n",
    "delete()"
   ],
   "id": "e15e7a0b6af9919d",
   "outputs": [],
   "execution_count": 38
  },
  {
   "metadata": {},
   "cell_type": "markdown",
   "source": "Видалення усіх файлів з росширенням .csv",
   "id": "54803aa7d0dc3b9f"
  }
 ],
 "metadata": {
  "kernelspec": {
   "display_name": "Python 3",
   "language": "python",
   "name": "python3"
  },
  "language_info": {
   "codemirror_mode": {
    "name": "ipython",
    "version": 2
   },
   "file_extension": ".py",
   "mimetype": "text/x-python",
   "name": "python",
   "nbconvert_exporter": "python",
   "pygments_lexer": "ipython2",
   "version": "2.7.6"
  }
 },
 "nbformat": 4,
 "nbformat_minor": 5
}
